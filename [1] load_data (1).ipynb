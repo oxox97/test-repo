{
 "cells": [
  {
   "cell_type": "code",
   "execution_count": 1,
   "metadata": {},
   "outputs": [
    {
     "name": "stderr",
     "output_type": "stream",
     "text": [
      "/usr/local/lib/python3.6/site-packages/pymysql/_auth.py:11: CryptographyDeprecationWarning: Python 3.6 is no longer supported by the Python core team. Therefore, support for it is deprecated in cryptography and will be removed in a future release.\n",
      "  from cryptography.hazmat.backends import default_backend\n"
     ]
    }
   ],
   "source": [
    "org_path = '/data/notebook/chris.kr'\n",
    "\n",
    "import os\n",
    "import sys\n",
    "import datetime\n",
    "sys.path.append(org_path)\n",
    "\n",
    "import pandas as pd\n",
    "from tqdm import tqdm\n",
    "from utils.dbutils_py3 import kakao_trino, piccoma_db\n",
    "\n",
    "from query import *"
   ]
  },
  {
   "cell_type": "code",
   "execution_count": 2,
   "metadata": {},
   "outputs": [],
   "source": [
    "qname = \"PICCOMA_PIVOT\"\n",
    "start_date = '20210101'\n",
    "end_date = '20220732'\n",
    "sampling = 10"
   ]
  },
  {
   "cell_type": "code",
   "execution_count": 4,
   "metadata": {},
   "outputs": [
    {
     "name": "stdout",
     "output_type": "stream",
     "text": [
      "CPU times: user 2.35 s, sys: 122 ms, total: 2.47 s\n",
      "Wall time: 6min 47s\n"
     ]
    }
   ],
   "source": [
    "%%time\n",
    "\n",
    "query = locals()[qname].format(\n",
    "    start_date = start_date,\n",
    "    end_date = end_date,\n",
    "    sampling = sampling)\n",
    "df = kakao_trino.excute_query(query)"
   ]
  },
  {
   "cell_type": "code",
   "execution_count": 16,
   "metadata": {},
   "outputs": [
    {
     "data": {
      "text/plain": [
       "(43616, 8)"
      ]
     },
     "execution_count": 16,
     "metadata": {},
     "output_type": "execute_result"
    }
   ],
   "source": [
    "df.shape"
   ]
  },
  {
   "cell_type": "code",
   "execution_count": 15,
   "metadata": {},
   "outputs": [
    {
     "data": {
      "text/html": [
       "<div>\n",
       "<style scoped>\n",
       "    .dataframe tbody tr th:only-of-type {\n",
       "        vertical-align: middle;\n",
       "    }\n",
       "\n",
       "    .dataframe tbody tr th {\n",
       "        vertical-align: top;\n",
       "    }\n",
       "\n",
       "    .dataframe thead th {\n",
       "        text-align: right;\n",
       "    }\n",
       "</style>\n",
       "<table border=\"1\" class=\"dataframe\">\n",
       "  <thead>\n",
       "    <tr style=\"text-align: right;\">\n",
       "      <th></th>\n",
       "      <th>log_date</th>\n",
       "      <th>svc_nm</th>\n",
       "      <th>category</th>\n",
       "      <th>genre</th>\n",
       "      <th>read</th>\n",
       "      <th>vimp</th>\n",
       "      <th>read_16</th>\n",
       "      <th>vimp_16</th>\n",
       "    </tr>\n",
       "  </thead>\n",
       "  <tbody>\n",
       "    <tr>\n",
       "      <th>0</th>\n",
       "      <td>20210101</td>\n",
       "      <td>뷰어엔드</td>\n",
       "      <td>노벨</td>\n",
       "      <td>공포 미스터리</td>\n",
       "      <td>2</td>\n",
       "      <td>281</td>\n",
       "      <td>1</td>\n",
       "      <td>67</td>\n",
       "    </tr>\n",
       "    <tr>\n",
       "      <th>1</th>\n",
       "      <td>20210101</td>\n",
       "      <td>뷰어엔드</td>\n",
       "      <td>노벨</td>\n",
       "      <td>드라마</td>\n",
       "      <td>17</td>\n",
       "      <td>1831</td>\n",
       "      <td>3</td>\n",
       "      <td>433</td>\n",
       "    </tr>\n",
       "    <tr>\n",
       "      <th>2</th>\n",
       "      <td>20210101</td>\n",
       "      <td>뷰어엔드</td>\n",
       "      <td>노벨</td>\n",
       "      <td>연애</td>\n",
       "      <td>8013</td>\n",
       "      <td>201313</td>\n",
       "      <td>1812</td>\n",
       "      <td>41913</td>\n",
       "    </tr>\n",
       "    <tr>\n",
       "      <th>3</th>\n",
       "      <td>20210101</td>\n",
       "      <td>뷰어엔드</td>\n",
       "      <td>노벨</td>\n",
       "      <td>판타지</td>\n",
       "      <td>1021</td>\n",
       "      <td>78771</td>\n",
       "      <td>235</td>\n",
       "      <td>13260</td>\n",
       "    </tr>\n",
       "    <tr>\n",
       "      <th>4</th>\n",
       "      <td>20210101</td>\n",
       "      <td>뷰어엔드</td>\n",
       "      <td>만화 출판</td>\n",
       "      <td>공포 미스터리</td>\n",
       "      <td>16810</td>\n",
       "      <td>431160</td>\n",
       "      <td>3320</td>\n",
       "      <td>87052</td>\n",
       "    </tr>\n",
       "  </tbody>\n",
       "</table>\n",
       "</div>"
      ],
      "text/plain": [
       "   log_date svc_nm category    genre   read    vimp  read_16  vimp_16\n",
       "0  20210101   뷰어엔드       노벨  공포 미스터리      2     281        1       67\n",
       "1  20210101   뷰어엔드       노벨      드라마     17    1831        3      433\n",
       "2  20210101   뷰어엔드       노벨       연애   8013  201313     1812    41913\n",
       "3  20210101   뷰어엔드       노벨      판타지   1021   78771      235    13260\n",
       "4  20210101   뷰어엔드    만화 출판  공포 미스터리  16810  431160     3320    87052"
      ]
     },
     "execution_count": 15,
     "metadata": {},
     "output_type": "execute_result"
    }
   ],
   "source": [
    "df.head()"
   ]
  },
  {
   "cell_type": "code",
   "execution_count": 18,
   "metadata": {},
   "outputs": [
    {
     "data": {
      "text/html": [
       "<div>\n",
       "<style scoped>\n",
       "    .dataframe tbody tr th:only-of-type {\n",
       "        vertical-align: middle;\n",
       "    }\n",
       "\n",
       "    .dataframe tbody tr th {\n",
       "        vertical-align: top;\n",
       "    }\n",
       "\n",
       "    .dataframe thead th {\n",
       "        text-align: right;\n",
       "    }\n",
       "</style>\n",
       "<table border=\"1\" class=\"dataframe\">\n",
       "  <thead>\n",
       "    <tr style=\"text-align: right;\">\n",
       "      <th></th>\n",
       "      <th>log_date</th>\n",
       "      <th>svc_nm</th>\n",
       "      <th>category</th>\n",
       "      <th>genre</th>\n",
       "      <th>read</th>\n",
       "      <th>vimp</th>\n",
       "      <th>read_16</th>\n",
       "      <th>vimp_16</th>\n",
       "    </tr>\n",
       "  </thead>\n",
       "  <tbody>\n",
       "    <tr>\n",
       "      <th>43611</th>\n",
       "      <td>20220731</td>\n",
       "      <td>홈추천</td>\n",
       "      <td>스마트 툰</td>\n",
       "      <td>연애</td>\n",
       "      <td>5177</td>\n",
       "      <td>124035</td>\n",
       "      <td>1112</td>\n",
       "      <td>18584</td>\n",
       "    </tr>\n",
       "    <tr>\n",
       "      <th>43612</th>\n",
       "      <td>20220731</td>\n",
       "      <td>홈추천</td>\n",
       "      <td>스마트 툰</td>\n",
       "      <td>음식</td>\n",
       "      <td>7</td>\n",
       "      <td>146</td>\n",
       "      <td>0</td>\n",
       "      <td>19</td>\n",
       "    </tr>\n",
       "    <tr>\n",
       "      <th>43613</th>\n",
       "      <td>20220731</td>\n",
       "      <td>홈추천</td>\n",
       "      <td>스마트 툰</td>\n",
       "      <td>판타지</td>\n",
       "      <td>3605</td>\n",
       "      <td>102914</td>\n",
       "      <td>586</td>\n",
       "      <td>13763</td>\n",
       "    </tr>\n",
       "    <tr>\n",
       "      <th>43614</th>\n",
       "      <td>20220731</td>\n",
       "      <td>홈추천</td>\n",
       "      <td>오디오</td>\n",
       "      <td>오디오</td>\n",
       "      <td>3</td>\n",
       "      <td>243</td>\n",
       "      <td>0</td>\n",
       "      <td>36</td>\n",
       "    </tr>\n",
       "    <tr>\n",
       "      <th>43615</th>\n",
       "      <td>20220731</td>\n",
       "      <td>홈추천</td>\n",
       "      <td>잡지</td>\n",
       "      <td>잡지</td>\n",
       "      <td>175</td>\n",
       "      <td>2995</td>\n",
       "      <td>10</td>\n",
       "      <td>467</td>\n",
       "    </tr>\n",
       "  </tbody>\n",
       "</table>\n",
       "</div>"
      ],
      "text/plain": [
       "       log_date svc_nm category genre  read    vimp  read_16  vimp_16\n",
       "43611  20220731    홈추천    스마트 툰    연애  5177  124035     1112    18584\n",
       "43612  20220731    홈추천    스마트 툰    음식     7     146        0       19\n",
       "43613  20220731    홈추천    스마트 툰   판타지  3605  102914      586    13763\n",
       "43614  20220731    홈추천      오디오   오디오     3     243        0       36\n",
       "43615  20220731    홈추천       잡지    잡지   175    2995       10      467"
      ]
     },
     "execution_count": 18,
     "metadata": {},
     "output_type": "execute_result"
    }
   ],
   "source": [
    "df.tail()"
   ]
  },
  {
   "cell_type": "code",
   "execution_count": 14,
   "metadata": {},
   "outputs": [],
   "source": [
    "fname = (f\"data/{qname}.pkl\")\n",
    "df.to_pickle(fname)"
   ]
  }
 ],
 "metadata": {
  "kernelspec": {
   "display_name": "Py3_aurochs.1.0.1",
   "language": "python",
   "name": "py3_aurochs"
  },
  "language_info": {
   "codemirror_mode": {
    "name": "ipython",
    "version": 3
   },
   "file_extension": ".py",
   "mimetype": "text/x-python",
   "name": "python",
   "nbconvert_exporter": "python",
   "pygments_lexer": "ipython3",
   "version": "3.6.8"
  }
 },
 "nbformat": 4,
 "nbformat_minor": 2
}
